{
 "cells": [
  {
   "cell_type": "code",
   "execution_count": 2,
   "id": "02e24f05-687b-4cc0-8bbf-ffedcf7ab19f",
   "metadata": {},
   "outputs": [],
   "source": [
    "import import_ipynb\n",
    "import Dia_6\n",
    "\n",
    "import pandas"
   ]
  },
  {
   "cell_type": "code",
   "execution_count": null,
   "id": "147b35b2-2c27-4b9d-9c63-6bc3edfe46bd",
   "metadata": {},
   "outputs": [],
   "source": []
  }
 ],
 "metadata": {
  "kernelspec": {
   "display_name": "Python 3 (ipykernel)",
   "language": "python",
   "name": "python3"
  },
  "language_info": {
   "codemirror_mode": {
    "name": "ipython",
    "version": 3
   },
   "file_extension": ".py",
   "mimetype": "text/x-python",
   "name": "python",
   "nbconvert_exporter": "python",
   "pygments_lexer": "ipython3",
   "version": "3.11.7"
  }
 },
 "nbformat": 4,
 "nbformat_minor": 5
}
